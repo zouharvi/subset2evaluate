{
 "cells": [
  {
   "cell_type": "code",
   "execution_count": 1,
   "metadata": {},
   "outputs": [],
   "source": [
    "\n",
    "import irt_mt_dev.utils as utils\n",
    "import numpy as np\n",
    "import os\n",
    "import subset2evaluate.evaluate\n",
    "import subset2evaluate.select_subset\n",
    "import tqdm\n",
    "\n",
    "os.chdir(\"/home/vilda/irt-mt-dev\")\n",
    "\n",
    "\n",
    "def benchmark_method(repetitions=10, kwargs_dict={}):\n",
    "\tdata_old = utils.load_data_wmt(\"wmt23\", \"en-cs\", normalize=True)\n",
    "\tpoints_y_acc = []\n",
    "\tpoints_y_clu = []\n",
    "\n",
    "\t# run multiple times to smooth variance\n",
    "\tfor _ in range(repetitions):\n",
    "\t\t(_, clu_new), acc_new = subset2evaluate.evaluate.run_evaluate_topk(\n",
    "\t\t\tdata_old,\n",
    "\t\t\tsubset2evaluate.select_subset.run_select_subset(data_old, **kwargs_dict),\n",
    "\t\t\tmetric=\"human\"\n",
    "\t\t)\n",
    "\t\tpoints_y_acc.append(acc_new)\n",
    "\t\tpoints_y_clu.append(clu_new)\n",
    "\n",
    "\t\tprint(f\"- ACC: {np.average(acc_new):.2%} | CLU: {np.average(clu_new):.2f}\")\n",
    "\tprint(f\"ACC: {np.average(points_y_acc):.2%} | CLU: {np.average(points_y_clu):.2f}\")"
   ]
  },
  {
   "cell_type": "code",
   "execution_count": 12,
   "metadata": {},
   "outputs": [
    {
     "name": "stdout",
     "output_type": "stream",
     "text": [
      "Random\n",
      "- ACC: 93.76% | CLU: 4.78\n",
      "- ACC: 89.63% | CLU: 4.33\n",
      "- ACC: 93.33% | CLU: 4.67\n",
      "- ACC: 94.29% | CLU: 4.33\n",
      "- ACC: 93.76% | CLU: 4.33\n",
      "- ACC: 92.91% | CLU: 5.00\n",
      "- ACC: 91.32% | CLU: 5.11\n",
      "- ACC: 93.12% | CLU: 4.67\n",
      "- ACC: 95.34% | CLU: 4.56\n",
      "- ACC: 93.97% | CLU: 4.89\n",
      "- ACC: 92.49% | CLU: 4.44\n",
      "- ACC: 90.79% | CLU: 4.67\n",
      "- ACC: 93.44% | CLU: 4.44\n",
      "- ACC: 92.80% | CLU: 5.00\n",
      "- ACC: 94.07% | CLU: 4.67\n",
      "- ACC: 92.17% | CLU: 4.78\n",
      "- ACC: 93.86% | CLU: 4.11\n",
      "- ACC: 95.34% | CLU: 4.67\n",
      "- ACC: 93.86% | CLU: 4.33\n",
      "- ACC: 91.01% | CLU: 4.00\n",
      "- ACC: 91.32% | CLU: 4.67\n",
      "- ACC: 89.84% | CLU: 4.22\n",
      "- ACC: 91.64% | CLU: 4.22\n",
      "- ACC: 92.70% | CLU: 5.22\n",
      "- ACC: 94.81% | CLU: 4.67\n",
      "- ACC: 92.28% | CLU: 4.56\n",
      "- ACC: 92.70% | CLU: 4.11\n",
      "- ACC: 93.02% | CLU: 4.78\n",
      "- ACC: 91.32% | CLU: 4.67\n",
      "- ACC: 92.91% | CLU: 4.56\n",
      "- ACC: 94.60% | CLU: 4.78\n",
      "- ACC: 92.17% | CLU: 4.67\n",
      "- ACC: 93.02% | CLU: 5.11\n",
      "- ACC: 94.29% | CLU: 4.67\n",
      "- ACC: 92.28% | CLU: 4.22\n",
      "- ACC: 91.11% | CLU: 4.78\n",
      "- ACC: 93.12% | CLU: 4.56\n",
      "- ACC: 93.12% | CLU: 5.00\n",
      "- ACC: 92.91% | CLU: 4.89\n",
      "- ACC: 93.23% | CLU: 4.78\n",
      "- ACC: 94.60% | CLU: 4.89\n",
      "- ACC: 95.77% | CLU: 5.11\n",
      "- ACC: 90.16% | CLU: 4.11\n",
      "- ACC: 93.86% | CLU: 4.56\n",
      "- ACC: 92.28% | CLU: 4.56\n",
      "- ACC: 93.12% | CLU: 4.78\n",
      "- ACC: 89.95% | CLU: 4.89\n",
      "- ACC: 93.97% | CLU: 5.00\n",
      "- ACC: 95.45% | CLU: 4.67\n",
      "- ACC: 92.06% | CLU: 4.22\n",
      "ACC: 92.90% | CLU: 4.63\n"
     ]
    }
   ],
   "source": [
    "print(\"Random\")\n",
    "benchmark_method(repetitions=50, kwargs_dict={\"method\": \"random\"})"
   ]
  },
  {
   "cell_type": "code",
   "execution_count": 13,
   "metadata": {},
   "outputs": [
    {
     "name": "stdout",
     "output_type": "stream",
     "text": [
      "MetricX-23 avg\n",
      "- ACC: 92.70% | CLU: 5.67\n",
      "ACC: 92.70% | CLU: 5.67\n",
      "MetricX-23 var\n",
      "- ACC: 93.54% | CLU: 5.44\n",
      "ACC: 93.54% | CLU: 5.44\n"
     ]
    }
   ],
   "source": [
    "print(\"MetricX-23 avg\")\n",
    "benchmark_method(repetitions=1, kwargs_dict={\"method\": \"avg\", \"metric\": \"MetricX-23\"})\n",
    "print(\"MetricX-23 var\")\n",
    "benchmark_method(repetitions=1, kwargs_dict={\"method\": \"var\", \"metric\": \"MetricX-23\"})"
   ]
  },
  {
   "cell_type": "code",
   "execution_count": 2,
   "metadata": {},
   "outputs": [
    {
     "name": "stdout",
     "output_type": "stream",
     "text": [
      "IRT Fisher Information Content\n",
      "- ACC: 93.12% | CLU: 4.33\n",
      "- ACC: 94.50% | CLU: 5.11\n",
      "- ACC: 93.54% | CLU: 4.89\n",
      "- ACC: 93.97% | CLU: 5.67\n",
      "- ACC: 94.50% | CLU: 5.33\n",
      "ACC: 93.93% | CLU: 5.07\n"
     ]
    }
   ],
   "source": [
    "# done with early stopping\n",
    "print(\"IRT Fisher Information Content\")\n",
    "benchmark_method(repetitions=5, kwargs_dict={\"method\": \"irt_fic\", \"metric\": \"MetricX-23\", \"model\": \"scalar\"})"
   ]
  },
  {
   "cell_type": "code",
   "execution_count": 4,
   "metadata": {},
   "outputs": [
    {
     "name": "stdout",
     "output_type": "stream",
     "text": [
      "IRT Fisher Information Content\n",
      "Best epoch was: 4\n",
      "- ACC: 94.71% | CLU: 5.56\n",
      "Best epoch was: 5\n",
      "- ACC: 92.49% | CLU: 4.89\n",
      "Best epoch was: 3\n",
      "- ACC: 93.65% | CLU: 5.11\n",
      "Best epoch was: 3\n",
      "- ACC: 91.75% | CLU: 4.67\n",
      "Best epoch was: 3\n",
      "- ACC: 93.23% | CLU: 5.11\n",
      "Best epoch was: 4\n",
      "- ACC: 91.96% | CLU: 5.11\n",
      "Best epoch was: 11\n",
      "- ACC: 95.66% | CLU: 5.22\n",
      "Best epoch was: 3\n",
      "- ACC: 93.97% | CLU: 5.22\n",
      "Best epoch was: 2\n",
      "- ACC: 93.86% | CLU: 5.22\n",
      "Best epoch was: 5\n",
      "- ACC: 95.13% | CLU: 4.78\n",
      "Best epoch was: 3\n",
      "- ACC: 90.90% | CLU: 4.89\n",
      "Best epoch was: 3\n",
      "- ACC: 94.18% | CLU: 4.89\n",
      "Best epoch was: 6\n",
      "- ACC: 92.80% | CLU: 5.89\n",
      "Best epoch was: 20\n",
      "- ACC: 93.86% | CLU: 5.00\n",
      "Best epoch was: 3\n",
      "- ACC: 95.13% | CLU: 5.33\n",
      "ACC: 93.55% | CLU: 5.13\n"
     ]
    }
   ],
   "source": [
    "# done with our own implementation\n",
    "# select by metric highest cluster count (metric)\n",
    "print(\"IRT Fisher Information Content\")\n",
    "benchmark_method(repetitions=15, kwargs_dict={\"method\": \"irt_fic\", \"metric\": \"MetricX-23\", \"model\": \"scalar\"})"
   ]
  },
  {
   "cell_type": "code",
   "execution_count": 2,
   "metadata": {},
   "outputs": [
    {
     "name": "stdout",
     "output_type": "stream",
     "text": [
      "IRT Fisher Information Content\n",
      "Best validation step was: 12\n",
      "- ACC: 94.18% | CLU: 4.89\n",
      "Best validation step was: 1\n",
      "- ACC: 94.07% | CLU: 5.22\n",
      "Best validation step was: 0\n",
      "- ACC: 92.80% | CLU: 4.67\n",
      "Best validation step was: 0\n",
      "- ACC: 92.91% | CLU: 4.89\n",
      "Best validation step was: 0\n",
      "- ACC: 95.34% | CLU: 4.44\n",
      "Best validation step was: 1\n",
      "- ACC: 91.96% | CLU: 5.11\n",
      "Best validation step was: 19\n",
      "- ACC: 94.07% | CLU: 5.33\n",
      "Best validation step was: 0\n",
      "- ACC: 92.17% | CLU: 4.56\n",
      "Best validation step was: 1\n",
      "- ACC: 93.65% | CLU: 4.78\n",
      "Best validation step was: 13\n",
      "- ACC: 92.80% | CLU: 5.00\n",
      "ACC: 93.40% | CLU: 4.89\n"
     ]
    }
   ],
   "source": [
    "# done with our own implementation\n",
    "# select by metric highest accuracy (metrioc)\n",
    "print(\"IRT Fisher Information Content\")\n",
    "benchmark_method(repetitions=10, kwargs_dict={\"method\": \"irt_fic\", \"metric\": \"MetricX-23\", \"model\": \"scalar\"})"
   ]
  },
  {
   "cell_type": "code",
   "execution_count": 2,
   "metadata": {},
   "outputs": [
    {
     "name": "stdout",
     "output_type": "stream",
     "text": [
      "IRT Fisher Information Content\n",
      "Median 0.94\n"
     ]
    },
    {
     "data": {
      "text/html": [
       "<pre style=\"white-space:pre;overflow-x:auto;line-height:normal;font-family:Menlo,'DejaVu Sans Mono',consolas,'Courier New',monospace\"><span style=\"color: #7fbfbf; text-decoration-color: #7fbfbf\">[19:54:12] </span>Vocab size: <span style=\"color: #800080; text-decoration-color: #800080; font-style: italic\">None</span>                                                                          <a href=\"file:///home/vilda/py-irt/py_irt/training.py\" target=\"_blank\"><span style=\"color: #7f7f7f; text-decoration-color: #7f7f7f\">training.py</span></a><span style=\"color: #7f7f7f; text-decoration-color: #7f7f7f\">:</span><a href=\"file:///home/vilda/py-irt/py_irt/training.py#93\" target=\"_blank\"><span style=\"color: #7f7f7f; text-decoration-color: #7f7f7f\">93</span></a>\n",
       "</pre>\n"
      ],
      "text/plain": [
       "\u001b[2;36m[19:54:12]\u001b[0m\u001b[2;36m \u001b[0mVocab size: \u001b[3;35mNone\u001b[0m                                                                          \u001b]8;id=907398;file:///home/vilda/py-irt/py_irt/training.py\u001b\\\u001b[2mtraining.py\u001b[0m\u001b]8;;\u001b\\\u001b[2m:\u001b[0m\u001b]8;id=421431;file:///home/vilda/py-irt/py_irt/training.py#93\u001b\\\u001b[2m93\u001b[0m\u001b]8;;\u001b\\\n"
      ]
     },
     "metadata": {},
     "output_type": "display_data"
    },
    {
     "data": {
      "text/html": [
       "<pre style=\"white-space:pre;overflow-x:auto;line-height:normal;font-family:Menlo,'DejaVu Sans Mono',consolas,'Courier New',monospace\"><span style=\"color: #7fbfbf; text-decoration-color: #7fbfbf\">           </span>args: <span style=\"font-weight: bold\">{</span><span style=\"color: #008000; text-decoration-color: #008000\">'device'</span>: <span style=\"color: #008000; text-decoration-color: #008000\">'cuda'</span>, <span style=\"color: #008000; text-decoration-color: #008000\">'num_items'</span>: <span style=\"color: #008080; text-decoration-color: #008080; font-weight: bold\">1098</span>, <span style=\"color: #008000; text-decoration-color: #008000\">'num_subjects'</span>: <span style=\"color: #008080; text-decoration-color: #008080; font-weight: bold\">15</span><span style=\"font-weight: bold\">}</span>                          <a href=\"file:///home/vilda/py-irt/py_irt/training.py\" target=\"_blank\"><span style=\"color: #7f7f7f; text-decoration-color: #7f7f7f\">training.py</span></a><span style=\"color: #7f7f7f; text-decoration-color: #7f7f7f\">:</span><a href=\"file:///home/vilda/py-irt/py_irt/training.py#143\" target=\"_blank\"><span style=\"color: #7f7f7f; text-decoration-color: #7f7f7f\">143</span></a>\n",
       "</pre>\n"
      ],
      "text/plain": [
       "\u001b[2;36m          \u001b[0m\u001b[2;36m \u001b[0margs: \u001b[1m{\u001b[0m\u001b[32m'device'\u001b[0m: \u001b[32m'cuda'\u001b[0m, \u001b[32m'num_items'\u001b[0m: \u001b[1;36m1098\u001b[0m, \u001b[32m'num_subjects'\u001b[0m: \u001b[1;36m15\u001b[0m\u001b[1m}\u001b[0m                          \u001b]8;id=954352;file:///home/vilda/py-irt/py_irt/training.py\u001b\\\u001b[2mtraining.py\u001b[0m\u001b]8;;\u001b\\\u001b[2m:\u001b[0m\u001b]8;id=814290;file:///home/vilda/py-irt/py_irt/training.py#143\u001b\\\u001b[2m143\u001b[0m\u001b]8;;\u001b\\\n"
      ]
     },
     "metadata": {},
     "output_type": "display_data"
    },
    {
     "data": {
      "text/html": [
       "<pre style=\"white-space:pre;overflow-x:auto;line-height:normal;font-family:Menlo,'DejaVu Sans Mono',consolas,'Courier New',monospace\"><span style=\"color: #7fbfbf; text-decoration-color: #7fbfbf\">           </span>Parsed Model Args: <span style=\"font-weight: bold\">{</span><span style=\"color: #008000; text-decoration-color: #008000\">'device'</span>: <span style=\"color: #008000; text-decoration-color: #008000\">'cuda'</span>, <span style=\"color: #008000; text-decoration-color: #008000\">'num_items'</span>: <span style=\"color: #008080; text-decoration-color: #008080; font-weight: bold\">1098</span>, <span style=\"color: #008000; text-decoration-color: #008000\">'num_subjects'</span>: <span style=\"color: #008080; text-decoration-color: #008080; font-weight: bold\">15</span>, <span style=\"color: #008000; text-decoration-color: #008000\">'priors'</span>:   <a href=\"file:///home/vilda/py-irt/py_irt/training.py\" target=\"_blank\"><span style=\"color: #7f7f7f; text-decoration-color: #7f7f7f\">training.py</span></a><span style=\"color: #7f7f7f; text-decoration-color: #7f7f7f\">:</span><a href=\"file:///home/vilda/py-irt/py_irt/training.py#156\" target=\"_blank\"><span style=\"color: #7f7f7f; text-decoration-color: #7f7f7f\">156</span></a>\n",
       "<span style=\"color: #7fbfbf; text-decoration-color: #7fbfbf\">           </span><span style=\"color: #008000; text-decoration-color: #008000\">'vague'</span>, <span style=\"color: #008000; text-decoration-color: #008000\">'dropout'</span>: <span style=\"color: #008080; text-decoration-color: #008080; font-weight: bold\">0.5</span>, <span style=\"color: #008000; text-decoration-color: #008000\">'hidden'</span>: <span style=\"color: #008080; text-decoration-color: #008080; font-weight: bold\">100</span>, <span style=\"color: #008000; text-decoration-color: #008000\">'vocab_size'</span>: <span style=\"color: #800080; text-decoration-color: #800080; font-style: italic\">None</span><span style=\"font-weight: bold\">}</span>                              <span style=\"color: #7f7f7f; text-decoration-color: #7f7f7f\">               </span>\n",
       "</pre>\n"
      ],
      "text/plain": [
       "\u001b[2;36m          \u001b[0m\u001b[2;36m \u001b[0mParsed Model Args: \u001b[1m{\u001b[0m\u001b[32m'device'\u001b[0m: \u001b[32m'cuda'\u001b[0m, \u001b[32m'num_items'\u001b[0m: \u001b[1;36m1098\u001b[0m, \u001b[32m'num_subjects'\u001b[0m: \u001b[1;36m15\u001b[0m, \u001b[32m'priors'\u001b[0m:   \u001b]8;id=278791;file:///home/vilda/py-irt/py_irt/training.py\u001b\\\u001b[2mtraining.py\u001b[0m\u001b]8;;\u001b\\\u001b[2m:\u001b[0m\u001b]8;id=87274;file:///home/vilda/py-irt/py_irt/training.py#156\u001b\\\u001b[2m156\u001b[0m\u001b]8;;\u001b\\\n",
       "\u001b[2;36m           \u001b[0m\u001b[32m'vague'\u001b[0m, \u001b[32m'dropout'\u001b[0m: \u001b[1;36m0.5\u001b[0m, \u001b[32m'hidden'\u001b[0m: \u001b[1;36m100\u001b[0m, \u001b[32m'vocab_size'\u001b[0m: \u001b[3;35mNone\u001b[0m\u001b[1m}\u001b[0m                              \u001b[2m               \u001b[0m\n"
      ]
     },
     "metadata": {},
     "output_type": "display_data"
    },
    {
     "data": {
      "application/vnd.jupyter.widget-view+json": {
       "model_id": "ed27389c0c694fd7b1ba065c84f054a9",
       "version_major": 2,
       "version_minor": 0
      },
      "text/plain": [
       "Output()"
      ]
     },
     "metadata": {},
     "output_type": "display_data"
    },
    {
     "data": {
      "text/html": [
       "<pre style=\"white-space:pre;overflow-x:auto;line-height:normal;font-family:Menlo,'DejaVu Sans Mono',consolas,'Courier New',monospace\">Training Pyro IRT Model for <span style=\"color: #008080; text-decoration-color: #008080; font-weight: bold\">1000</span> epochs\n",
       "</pre>\n"
      ],
      "text/plain": [
       "Training Pyro IRT Model for \u001b[1;36m1000\u001b[0m epochs\n"
      ]
     },
     "metadata": {},
     "output_type": "display_data"
    },
    {
     "name": "stdout",
     "output_type": "stream",
     "text": [
      "torch.Size([16470]) torch.Size([16470])\n"
     ]
    },
    {
     "data": {
      "text/html": [
       "<pre style=\"white-space:pre;overflow-x:auto;line-height:normal;font-family:Menlo,'DejaVu Sans Mono',consolas,'Courier New',monospace\"></pre>\n"
      ],
      "text/plain": []
     },
     "metadata": {},
     "output_type": "display_data"
    },
    {
     "name": "stdout",
     "output_type": "stream",
     "text": [
      "- ACC: 94.81% | CLU: 5.22\n",
      "Median 0.94\n"
     ]
    },
    {
     "data": {
      "text/html": [
       "<pre style=\"white-space:pre;overflow-x:auto;line-height:normal;font-family:Menlo,'DejaVu Sans Mono',consolas,'Courier New',monospace\"><span style=\"color: #7fbfbf; text-decoration-color: #7fbfbf\">[19:54:31] </span>Vocab size: <span style=\"color: #800080; text-decoration-color: #800080; font-style: italic\">None</span>                                                                          <a href=\"file:///home/vilda/py-irt/py_irt/training.py\" target=\"_blank\"><span style=\"color: #7f7f7f; text-decoration-color: #7f7f7f\">training.py</span></a><span style=\"color: #7f7f7f; text-decoration-color: #7f7f7f\">:</span><a href=\"file:///home/vilda/py-irt/py_irt/training.py#93\" target=\"_blank\"><span style=\"color: #7f7f7f; text-decoration-color: #7f7f7f\">93</span></a>\n",
       "</pre>\n"
      ],
      "text/plain": [
       "\u001b[2;36m[19:54:31]\u001b[0m\u001b[2;36m \u001b[0mVocab size: \u001b[3;35mNone\u001b[0m                                                                          \u001b]8;id=802300;file:///home/vilda/py-irt/py_irt/training.py\u001b\\\u001b[2mtraining.py\u001b[0m\u001b]8;;\u001b\\\u001b[2m:\u001b[0m\u001b]8;id=960429;file:///home/vilda/py-irt/py_irt/training.py#93\u001b\\\u001b[2m93\u001b[0m\u001b]8;;\u001b\\\n"
      ]
     },
     "metadata": {},
     "output_type": "display_data"
    },
    {
     "data": {
      "text/html": [
       "<pre style=\"white-space:pre;overflow-x:auto;line-height:normal;font-family:Menlo,'DejaVu Sans Mono',consolas,'Courier New',monospace\"><span style=\"color: #7fbfbf; text-decoration-color: #7fbfbf\">           </span>args: <span style=\"font-weight: bold\">{</span><span style=\"color: #008000; text-decoration-color: #008000\">'device'</span>: <span style=\"color: #008000; text-decoration-color: #008000\">'cuda'</span>, <span style=\"color: #008000; text-decoration-color: #008000\">'num_items'</span>: <span style=\"color: #008080; text-decoration-color: #008080; font-weight: bold\">1098</span>, <span style=\"color: #008000; text-decoration-color: #008000\">'num_subjects'</span>: <span style=\"color: #008080; text-decoration-color: #008080; font-weight: bold\">15</span><span style=\"font-weight: bold\">}</span>                          <a href=\"file:///home/vilda/py-irt/py_irt/training.py\" target=\"_blank\"><span style=\"color: #7f7f7f; text-decoration-color: #7f7f7f\">training.py</span></a><span style=\"color: #7f7f7f; text-decoration-color: #7f7f7f\">:</span><a href=\"file:///home/vilda/py-irt/py_irt/training.py#143\" target=\"_blank\"><span style=\"color: #7f7f7f; text-decoration-color: #7f7f7f\">143</span></a>\n",
       "</pre>\n"
      ],
      "text/plain": [
       "\u001b[2;36m          \u001b[0m\u001b[2;36m \u001b[0margs: \u001b[1m{\u001b[0m\u001b[32m'device'\u001b[0m: \u001b[32m'cuda'\u001b[0m, \u001b[32m'num_items'\u001b[0m: \u001b[1;36m1098\u001b[0m, \u001b[32m'num_subjects'\u001b[0m: \u001b[1;36m15\u001b[0m\u001b[1m}\u001b[0m                          \u001b]8;id=204021;file:///home/vilda/py-irt/py_irt/training.py\u001b\\\u001b[2mtraining.py\u001b[0m\u001b]8;;\u001b\\\u001b[2m:\u001b[0m\u001b]8;id=70799;file:///home/vilda/py-irt/py_irt/training.py#143\u001b\\\u001b[2m143\u001b[0m\u001b]8;;\u001b\\\n"
      ]
     },
     "metadata": {},
     "output_type": "display_data"
    },
    {
     "data": {
      "text/html": [
       "<pre style=\"white-space:pre;overflow-x:auto;line-height:normal;font-family:Menlo,'DejaVu Sans Mono',consolas,'Courier New',monospace\"><span style=\"color: #7fbfbf; text-decoration-color: #7fbfbf\">           </span>Parsed Model Args: <span style=\"font-weight: bold\">{</span><span style=\"color: #008000; text-decoration-color: #008000\">'device'</span>: <span style=\"color: #008000; text-decoration-color: #008000\">'cuda'</span>, <span style=\"color: #008000; text-decoration-color: #008000\">'num_items'</span>: <span style=\"color: #008080; text-decoration-color: #008080; font-weight: bold\">1098</span>, <span style=\"color: #008000; text-decoration-color: #008000\">'num_subjects'</span>: <span style=\"color: #008080; text-decoration-color: #008080; font-weight: bold\">15</span>, <span style=\"color: #008000; text-decoration-color: #008000\">'priors'</span>:   <a href=\"file:///home/vilda/py-irt/py_irt/training.py\" target=\"_blank\"><span style=\"color: #7f7f7f; text-decoration-color: #7f7f7f\">training.py</span></a><span style=\"color: #7f7f7f; text-decoration-color: #7f7f7f\">:</span><a href=\"file:///home/vilda/py-irt/py_irt/training.py#156\" target=\"_blank\"><span style=\"color: #7f7f7f; text-decoration-color: #7f7f7f\">156</span></a>\n",
       "<span style=\"color: #7fbfbf; text-decoration-color: #7fbfbf\">           </span><span style=\"color: #008000; text-decoration-color: #008000\">'vague'</span>, <span style=\"color: #008000; text-decoration-color: #008000\">'dropout'</span>: <span style=\"color: #008080; text-decoration-color: #008080; font-weight: bold\">0.5</span>, <span style=\"color: #008000; text-decoration-color: #008000\">'hidden'</span>: <span style=\"color: #008080; text-decoration-color: #008080; font-weight: bold\">100</span>, <span style=\"color: #008000; text-decoration-color: #008000\">'vocab_size'</span>: <span style=\"color: #800080; text-decoration-color: #800080; font-style: italic\">None</span><span style=\"font-weight: bold\">}</span>                              <span style=\"color: #7f7f7f; text-decoration-color: #7f7f7f\">               </span>\n",
       "</pre>\n"
      ],
      "text/plain": [
       "\u001b[2;36m          \u001b[0m\u001b[2;36m \u001b[0mParsed Model Args: \u001b[1m{\u001b[0m\u001b[32m'device'\u001b[0m: \u001b[32m'cuda'\u001b[0m, \u001b[32m'num_items'\u001b[0m: \u001b[1;36m1098\u001b[0m, \u001b[32m'num_subjects'\u001b[0m: \u001b[1;36m15\u001b[0m, \u001b[32m'priors'\u001b[0m:   \u001b]8;id=198637;file:///home/vilda/py-irt/py_irt/training.py\u001b\\\u001b[2mtraining.py\u001b[0m\u001b]8;;\u001b\\\u001b[2m:\u001b[0m\u001b]8;id=61865;file:///home/vilda/py-irt/py_irt/training.py#156\u001b\\\u001b[2m156\u001b[0m\u001b]8;;\u001b\\\n",
       "\u001b[2;36m           \u001b[0m\u001b[32m'vague'\u001b[0m, \u001b[32m'dropout'\u001b[0m: \u001b[1;36m0.5\u001b[0m, \u001b[32m'hidden'\u001b[0m: \u001b[1;36m100\u001b[0m, \u001b[32m'vocab_size'\u001b[0m: \u001b[3;35mNone\u001b[0m\u001b[1m}\u001b[0m                              \u001b[2m               \u001b[0m\n"
      ]
     },
     "metadata": {},
     "output_type": "display_data"
    },
    {
     "data": {
      "application/vnd.jupyter.widget-view+json": {
       "model_id": "815a7a9c3ed0473a87e0bb3494172a40",
       "version_major": 2,
       "version_minor": 0
      },
      "text/plain": [
       "Output()"
      ]
     },
     "metadata": {},
     "output_type": "display_data"
    },
    {
     "data": {
      "text/html": [
       "<pre style=\"white-space:pre;overflow-x:auto;line-height:normal;font-family:Menlo,'DejaVu Sans Mono',consolas,'Courier New',monospace\">Training Pyro IRT Model for <span style=\"color: #008080; text-decoration-color: #008080; font-weight: bold\">1000</span> epochs\n",
       "</pre>\n"
      ],
      "text/plain": [
       "Training Pyro IRT Model for \u001b[1;36m1000\u001b[0m epochs\n"
      ]
     },
     "metadata": {},
     "output_type": "display_data"
    },
    {
     "name": "stdout",
     "output_type": "stream",
     "text": [
      "torch.Size([16470]) torch.Size([16470])\n"
     ]
    },
    {
     "data": {
      "text/html": [
       "<pre style=\"white-space:pre;overflow-x:auto;line-height:normal;font-family:Menlo,'DejaVu Sans Mono',consolas,'Courier New',monospace\"></pre>\n"
      ],
      "text/plain": []
     },
     "metadata": {},
     "output_type": "display_data"
    },
    {
     "name": "stdout",
     "output_type": "stream",
     "text": [
      "- ACC: 95.13% | CLU: 5.33\n",
      "Median 0.94\n"
     ]
    },
    {
     "data": {
      "text/html": [
       "<pre style=\"white-space:pre;overflow-x:auto;line-height:normal;font-family:Menlo,'DejaVu Sans Mono',consolas,'Courier New',monospace\"><span style=\"color: #7fbfbf; text-decoration-color: #7fbfbf\">[19:54:50] </span>Vocab size: <span style=\"color: #800080; text-decoration-color: #800080; font-style: italic\">None</span>                                                                          <a href=\"file:///home/vilda/py-irt/py_irt/training.py\" target=\"_blank\"><span style=\"color: #7f7f7f; text-decoration-color: #7f7f7f\">training.py</span></a><span style=\"color: #7f7f7f; text-decoration-color: #7f7f7f\">:</span><a href=\"file:///home/vilda/py-irt/py_irt/training.py#93\" target=\"_blank\"><span style=\"color: #7f7f7f; text-decoration-color: #7f7f7f\">93</span></a>\n",
       "</pre>\n"
      ],
      "text/plain": [
       "\u001b[2;36m[19:54:50]\u001b[0m\u001b[2;36m \u001b[0mVocab size: \u001b[3;35mNone\u001b[0m                                                                          \u001b]8;id=741894;file:///home/vilda/py-irt/py_irt/training.py\u001b\\\u001b[2mtraining.py\u001b[0m\u001b]8;;\u001b\\\u001b[2m:\u001b[0m\u001b]8;id=572917;file:///home/vilda/py-irt/py_irt/training.py#93\u001b\\\u001b[2m93\u001b[0m\u001b]8;;\u001b\\\n"
      ]
     },
     "metadata": {},
     "output_type": "display_data"
    },
    {
     "data": {
      "text/html": [
       "<pre style=\"white-space:pre;overflow-x:auto;line-height:normal;font-family:Menlo,'DejaVu Sans Mono',consolas,'Courier New',monospace\"><span style=\"color: #7fbfbf; text-decoration-color: #7fbfbf\">           </span>args: <span style=\"font-weight: bold\">{</span><span style=\"color: #008000; text-decoration-color: #008000\">'device'</span>: <span style=\"color: #008000; text-decoration-color: #008000\">'cuda'</span>, <span style=\"color: #008000; text-decoration-color: #008000\">'num_items'</span>: <span style=\"color: #008080; text-decoration-color: #008080; font-weight: bold\">1098</span>, <span style=\"color: #008000; text-decoration-color: #008000\">'num_subjects'</span>: <span style=\"color: #008080; text-decoration-color: #008080; font-weight: bold\">15</span><span style=\"font-weight: bold\">}</span>                          <a href=\"file:///home/vilda/py-irt/py_irt/training.py\" target=\"_blank\"><span style=\"color: #7f7f7f; text-decoration-color: #7f7f7f\">training.py</span></a><span style=\"color: #7f7f7f; text-decoration-color: #7f7f7f\">:</span><a href=\"file:///home/vilda/py-irt/py_irt/training.py#143\" target=\"_blank\"><span style=\"color: #7f7f7f; text-decoration-color: #7f7f7f\">143</span></a>\n",
       "</pre>\n"
      ],
      "text/plain": [
       "\u001b[2;36m          \u001b[0m\u001b[2;36m \u001b[0margs: \u001b[1m{\u001b[0m\u001b[32m'device'\u001b[0m: \u001b[32m'cuda'\u001b[0m, \u001b[32m'num_items'\u001b[0m: \u001b[1;36m1098\u001b[0m, \u001b[32m'num_subjects'\u001b[0m: \u001b[1;36m15\u001b[0m\u001b[1m}\u001b[0m                          \u001b]8;id=137105;file:///home/vilda/py-irt/py_irt/training.py\u001b\\\u001b[2mtraining.py\u001b[0m\u001b]8;;\u001b\\\u001b[2m:\u001b[0m\u001b]8;id=92613;file:///home/vilda/py-irt/py_irt/training.py#143\u001b\\\u001b[2m143\u001b[0m\u001b]8;;\u001b\\\n"
      ]
     },
     "metadata": {},
     "output_type": "display_data"
    },
    {
     "data": {
      "text/html": [
       "<pre style=\"white-space:pre;overflow-x:auto;line-height:normal;font-family:Menlo,'DejaVu Sans Mono',consolas,'Courier New',monospace\"><span style=\"color: #7fbfbf; text-decoration-color: #7fbfbf\">           </span>Parsed Model Args: <span style=\"font-weight: bold\">{</span><span style=\"color: #008000; text-decoration-color: #008000\">'device'</span>: <span style=\"color: #008000; text-decoration-color: #008000\">'cuda'</span>, <span style=\"color: #008000; text-decoration-color: #008000\">'num_items'</span>: <span style=\"color: #008080; text-decoration-color: #008080; font-weight: bold\">1098</span>, <span style=\"color: #008000; text-decoration-color: #008000\">'num_subjects'</span>: <span style=\"color: #008080; text-decoration-color: #008080; font-weight: bold\">15</span>, <span style=\"color: #008000; text-decoration-color: #008000\">'priors'</span>:   <a href=\"file:///home/vilda/py-irt/py_irt/training.py\" target=\"_blank\"><span style=\"color: #7f7f7f; text-decoration-color: #7f7f7f\">training.py</span></a><span style=\"color: #7f7f7f; text-decoration-color: #7f7f7f\">:</span><a href=\"file:///home/vilda/py-irt/py_irt/training.py#156\" target=\"_blank\"><span style=\"color: #7f7f7f; text-decoration-color: #7f7f7f\">156</span></a>\n",
       "<span style=\"color: #7fbfbf; text-decoration-color: #7fbfbf\">           </span><span style=\"color: #008000; text-decoration-color: #008000\">'vague'</span>, <span style=\"color: #008000; text-decoration-color: #008000\">'dropout'</span>: <span style=\"color: #008080; text-decoration-color: #008080; font-weight: bold\">0.5</span>, <span style=\"color: #008000; text-decoration-color: #008000\">'hidden'</span>: <span style=\"color: #008080; text-decoration-color: #008080; font-weight: bold\">100</span>, <span style=\"color: #008000; text-decoration-color: #008000\">'vocab_size'</span>: <span style=\"color: #800080; text-decoration-color: #800080; font-style: italic\">None</span><span style=\"font-weight: bold\">}</span>                              <span style=\"color: #7f7f7f; text-decoration-color: #7f7f7f\">               </span>\n",
       "</pre>\n"
      ],
      "text/plain": [
       "\u001b[2;36m          \u001b[0m\u001b[2;36m \u001b[0mParsed Model Args: \u001b[1m{\u001b[0m\u001b[32m'device'\u001b[0m: \u001b[32m'cuda'\u001b[0m, \u001b[32m'num_items'\u001b[0m: \u001b[1;36m1098\u001b[0m, \u001b[32m'num_subjects'\u001b[0m: \u001b[1;36m15\u001b[0m, \u001b[32m'priors'\u001b[0m:   \u001b]8;id=535558;file:///home/vilda/py-irt/py_irt/training.py\u001b\\\u001b[2mtraining.py\u001b[0m\u001b]8;;\u001b\\\u001b[2m:\u001b[0m\u001b]8;id=396033;file:///home/vilda/py-irt/py_irt/training.py#156\u001b\\\u001b[2m156\u001b[0m\u001b]8;;\u001b\\\n",
       "\u001b[2;36m           \u001b[0m\u001b[32m'vague'\u001b[0m, \u001b[32m'dropout'\u001b[0m: \u001b[1;36m0.5\u001b[0m, \u001b[32m'hidden'\u001b[0m: \u001b[1;36m100\u001b[0m, \u001b[32m'vocab_size'\u001b[0m: \u001b[3;35mNone\u001b[0m\u001b[1m}\u001b[0m                              \u001b[2m               \u001b[0m\n"
      ]
     },
     "metadata": {},
     "output_type": "display_data"
    },
    {
     "data": {
      "application/vnd.jupyter.widget-view+json": {
       "model_id": "89e6810bbe6946bca22cf2e7d44b6b74",
       "version_major": 2,
       "version_minor": 0
      },
      "text/plain": [
       "Output()"
      ]
     },
     "metadata": {},
     "output_type": "display_data"
    },
    {
     "data": {
      "text/html": [
       "<pre style=\"white-space:pre;overflow-x:auto;line-height:normal;font-family:Menlo,'DejaVu Sans Mono',consolas,'Courier New',monospace\">Training Pyro IRT Model for <span style=\"color: #008080; text-decoration-color: #008080; font-weight: bold\">1000</span> epochs\n",
       "</pre>\n"
      ],
      "text/plain": [
       "Training Pyro IRT Model for \u001b[1;36m1000\u001b[0m epochs\n"
      ]
     },
     "metadata": {},
     "output_type": "display_data"
    },
    {
     "name": "stdout",
     "output_type": "stream",
     "text": [
      "torch.Size([16470]) torch.Size([16470])\n"
     ]
    },
    {
     "data": {
      "text/html": [
       "<pre style=\"white-space:pre;overflow-x:auto;line-height:normal;font-family:Menlo,'DejaVu Sans Mono',consolas,'Courier New',monospace\"></pre>\n"
      ],
      "text/plain": []
     },
     "metadata": {},
     "output_type": "display_data"
    },
    {
     "name": "stdout",
     "output_type": "stream",
     "text": [
      "- ACC: 95.24% | CLU: 5.11\n",
      "ACC: 95.06% | CLU: 5.22\n"
     ]
    }
   ],
   "source": [
    "print(\"PyIRT Fisher Information Content\")\n",
    "benchmark_method(repetitions=3, kwargs_dict={\"method\": \"pyirt_fic\", \"metric\": \"MetricX-23\", \"model\": \"scalar\"})"
   ]
  }
 ],
 "metadata": {
  "kernelspec": {
   "display_name": "base",
   "language": "python",
   "name": "python3"
  },
  "language_info": {
   "codemirror_mode": {
    "name": "ipython",
    "version": 3
   },
   "file_extension": ".py",
   "mimetype": "text/x-python",
   "name": "python",
   "nbconvert_exporter": "python",
   "pygments_lexer": "ipython3",
   "version": "3.11.5"
  }
 },
 "nbformat": 4,
 "nbformat_minor": 2
}
