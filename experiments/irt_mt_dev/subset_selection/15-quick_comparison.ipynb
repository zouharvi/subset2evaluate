{
 "cells": [
  {
   "cell_type": "code",
   "execution_count": 1,
   "metadata": {},
   "outputs": [],
   "source": [
    "\n",
    "import irt_mt_dev.utils as utils\n",
    "import numpy as np\n",
    "import os\n",
    "import subset2evaluate.evaluate\n",
    "import subset2evaluate.select_subset\n",
    "import tqdm\n",
    "\n",
    "os.chdir(\"/home/vilda/irt-mt-dev\")\n",
    "\n",
    "def benchmark_method(repetitions=10, kwargs_dict={}):\n",
    "    data_old_all = list(utils.load_data_wmt_all(normalize=True).values())[:9]\n",
    "    points_y_acc = []\n",
    "    points_y_clu = []\n",
    "\n",
    "    # run multiple times to smooth variance\n",
    "    for data_old in data_old_all:\n",
    "        for _ in range(repetitions):\n",
    "            (_, clu_new), acc_new = subset2evaluate.evaluate.run_evaluate_topk(\n",
    "                data_old,\n",
    "                subset2evaluate.select_subset.run_select_subset(data_old, **kwargs_dict),\n",
    "                metric=\"human\",\n",
    "                retry_on_error=True,\n",
    "            )\n",
    "            points_y_acc.append(acc_new)\n",
    "            points_y_clu.append(clu_new)\n",
    "\n",
    "        # print(f\"- ACC: {np.average(acc_new):.2%} | CLU: {np.average(clu_new):.2f}\")\n",
    "    print(f\"ACC: {np.average(points_y_acc):.2%} | CLU: {np.average(points_y_clu):.2f}\")"
   ]
  },
  {
   "cell_type": "code",
   "execution_count": 2,
   "metadata": {},
   "outputs": [
    {
     "name": "stdout",
     "output_type": "stream",
     "text": [
      "Random\n",
      "ACC: 91.65% | CLU: 2.42\n"
     ]
    }
   ],
   "source": [
    "print(\"Random\")\n",
    "benchmark_method(repetitions=10, kwargs_dict={\"method\": \"random\"})\n",
    "\n",
    "# ACC: 91.65% | CLU: 2.42"
   ]
  },
  {
   "cell_type": "code",
   "execution_count": 3,
   "metadata": {},
   "outputs": [
    {
     "name": "stdout",
     "output_type": "stream",
     "text": [
      "MetricX-23 avg\n",
      "ACC: 92.41% | CLU: 3.32\n",
      "MetricX-23 var\n",
      "ACC: 92.59% | CLU: 3.43\n"
     ]
    }
   ],
   "source": [
    "print(\"MetricX-23 avg\")\n",
    "benchmark_method(repetitions=1, kwargs_dict={\"method\": \"avg\", \"metric\": \"MetricX-23\"})\n",
    "print(\"MetricX-23 var\")\n",
    "benchmark_method(repetitions=1, kwargs_dict={\"method\": \"var\", \"metric\": \"MetricX-23\"})\n",
    "\n",
    "# MetricX-23 avg\n",
    "# ACC: 92.41% | CLU: 3.32\n",
    "# MetricX-23 var\n",
    "# ACC: 92.59% | CLU: 3.43"
   ]
  },
  {
   "cell_type": "code",
   "execution_count": 4,
   "metadata": {},
   "outputs": [
    {
     "name": "stdout",
     "output_type": "stream",
     "text": [
      "IRT Fisher Information Content\n",
      "Best validation step was: 0\n",
      "Best validation step was: 2\n",
      "Best validation step was: 3\n",
      "Best validation step was: 0\n",
      "Best validation step was: 3\n",
      "Best validation step was: 0\n",
      "Best validation step was: 0\n",
      "Best validation step was: 26\n",
      "Best validation step was: 14\n",
      "Best validation step was: 7\n",
      "Best validation step was: 1\n",
      "Best validation step was: 0\n",
      "Best validation step was: 0\n",
      "Best validation step was: 1\n",
      "Best validation step was: 1\n",
      "Best validation step was: 22\n",
      "Best validation step was: 0\n",
      "Best validation step was: 18\n",
      "Best validation step was: 1\n",
      "Best validation step was: 1\n",
      "Best validation step was: 4\n",
      "Best validation step was: 1\n",
      "Best validation step was: 1\n",
      "Best validation step was: 0\n",
      "Best validation step was: 0\n",
      "Best validation step was: 2\n",
      "Best validation step was: 1\n",
      "ACC: 91.48% | CLU: 2.86\n"
     ]
    }
   ],
   "source": [
    "print(\"IRT Fisher Information Content\")\n",
    "benchmark_method(repetitions=3, kwargs_dict={\"method\": \"irt_fic\", \"metric\": \"MetricX-23\", \"model\": \"scalar\"})\n",
    "\n",
    "# ACC: 91.48% | CLU: 2.86"
   ]
  },
  {
   "cell_type": "code",
   "execution_count": 5,
   "metadata": {},
   "outputs": [
    {
     "name": "stdout",
     "output_type": "stream",
     "text": [
      "PyIRT Fisher Information Content\n"
     ]
    },
    {
     "data": {
      "application/vnd.jupyter.widget-view+json": {
       "model_id": "234474c2e0aa4ba980b14c9115fd8f59",
       "version_major": 2,
       "version_minor": 0
      },
      "text/plain": [
       "Output()"
      ]
     },
     "metadata": {},
     "output_type": "display_data"
    },
    {
     "data": {
      "application/vnd.jupyter.widget-view+json": {
       "model_id": "7b6ef2d8589d42b48e9053867745f44e",
       "version_major": 2,
       "version_minor": 0
      },
      "text/plain": [
       "Output()"
      ]
     },
     "metadata": {},
     "output_type": "display_data"
    },
    {
     "data": {
      "application/vnd.jupyter.widget-view+json": {
       "model_id": "b0d06e9aa5c948e7991fe03cb5a38cfc",
       "version_major": 2,
       "version_minor": 0
      },
      "text/plain": [
       "Output()"
      ]
     },
     "metadata": {},
     "output_type": "display_data"
    },
    {
     "data": {
      "application/vnd.jupyter.widget-view+json": {
       "model_id": "b94d416c758e4f36add35edca62f755d",
       "version_major": 2,
       "version_minor": 0
      },
      "text/plain": [
       "Output()"
      ]
     },
     "metadata": {},
     "output_type": "display_data"
    },
    {
     "data": {
      "application/vnd.jupyter.widget-view+json": {
       "model_id": "e7cb386858254671922c820d12bc225a",
       "version_major": 2,
       "version_minor": 0
      },
      "text/plain": [
       "Output()"
      ]
     },
     "metadata": {},
     "output_type": "display_data"
    },
    {
     "data": {
      "application/vnd.jupyter.widget-view+json": {
       "model_id": "2862c70f00364e3c943c49a3fa856f93",
       "version_major": 2,
       "version_minor": 0
      },
      "text/plain": [
       "Output()"
      ]
     },
     "metadata": {},
     "output_type": "display_data"
    },
    {
     "data": {
      "application/vnd.jupyter.widget-view+json": {
       "model_id": "6739f49bd7074055adaa4bb9c140efa0",
       "version_major": 2,
       "version_minor": 0
      },
      "text/plain": [
       "Output()"
      ]
     },
     "metadata": {},
     "output_type": "display_data"
    },
    {
     "data": {
      "application/vnd.jupyter.widget-view+json": {
       "model_id": "8665b354329e468182bc3eba436a1974",
       "version_major": 2,
       "version_minor": 0
      },
      "text/plain": [
       "Output()"
      ]
     },
     "metadata": {},
     "output_type": "display_data"
    },
    {
     "data": {
      "application/vnd.jupyter.widget-view+json": {
       "model_id": "c08acfd700ca4eb8a938860a2ca44828",
       "version_major": 2,
       "version_minor": 0
      },
      "text/plain": [
       "Output()"
      ]
     },
     "metadata": {},
     "output_type": "display_data"
    },
    {
     "data": {
      "application/vnd.jupyter.widget-view+json": {
       "model_id": "dcc21d5642cc408a9ded13ed0c5b134d",
       "version_major": 2,
       "version_minor": 0
      },
      "text/plain": [
       "Output()"
      ]
     },
     "metadata": {},
     "output_type": "display_data"
    },
    {
     "data": {
      "application/vnd.jupyter.widget-view+json": {
       "model_id": "e08a20b2f2dc4522a2619e796777e21d",
       "version_major": 2,
       "version_minor": 0
      },
      "text/plain": [
       "Output()"
      ]
     },
     "metadata": {},
     "output_type": "display_data"
    },
    {
     "data": {
      "application/vnd.jupyter.widget-view+json": {
       "model_id": "cdb0917bf93744a1888921cc3f215d7a",
       "version_major": 2,
       "version_minor": 0
      },
      "text/plain": [
       "Output()"
      ]
     },
     "metadata": {},
     "output_type": "display_data"
    },
    {
     "data": {
      "application/vnd.jupyter.widget-view+json": {
       "model_id": "bcfbcdeb663f41459d421201461bef4a",
       "version_major": 2,
       "version_minor": 0
      },
      "text/plain": [
       "Output()"
      ]
     },
     "metadata": {},
     "output_type": "display_data"
    },
    {
     "data": {
      "application/vnd.jupyter.widget-view+json": {
       "model_id": "574bf8be77a14649a11f51385193e7a7",
       "version_major": 2,
       "version_minor": 0
      },
      "text/plain": [
       "Output()"
      ]
     },
     "metadata": {},
     "output_type": "display_data"
    },
    {
     "data": {
      "application/vnd.jupyter.widget-view+json": {
       "model_id": "db63b37fcc104bfaacee66f395d0e5b6",
       "version_major": 2,
       "version_minor": 0
      },
      "text/plain": [
       "Output()"
      ]
     },
     "metadata": {},
     "output_type": "display_data"
    },
    {
     "data": {
      "application/vnd.jupyter.widget-view+json": {
       "model_id": "92e7008aa1d64321b124ee5b12d9f8ea",
       "version_major": 2,
       "version_minor": 0
      },
      "text/plain": [
       "Output()"
      ]
     },
     "metadata": {},
     "output_type": "display_data"
    },
    {
     "data": {
      "application/vnd.jupyter.widget-view+json": {
       "model_id": "357b584664dc4997bc0b0cc5d091001b",
       "version_major": 2,
       "version_minor": 0
      },
      "text/plain": [
       "Output()"
      ]
     },
     "metadata": {},
     "output_type": "display_data"
    },
    {
     "data": {
      "application/vnd.jupyter.widget-view+json": {
       "model_id": "fb9a11b38aed41af97e05add785da0a2",
       "version_major": 2,
       "version_minor": 0
      },
      "text/plain": [
       "Output()"
      ]
     },
     "metadata": {},
     "output_type": "display_data"
    },
    {
     "data": {
      "application/vnd.jupyter.widget-view+json": {
       "model_id": "0f3fb22db80d49fa8df4ab1ac7f4d5cb",
       "version_major": 2,
       "version_minor": 0
      },
      "text/plain": [
       "Output()"
      ]
     },
     "metadata": {},
     "output_type": "display_data"
    },
    {
     "data": {
      "application/vnd.jupyter.widget-view+json": {
       "model_id": "9b23b44cd19642e898d44d6fae0374a7",
       "version_major": 2,
       "version_minor": 0
      },
      "text/plain": [
       "Output()"
      ]
     },
     "metadata": {},
     "output_type": "display_data"
    },
    {
     "data": {
      "application/vnd.jupyter.widget-view+json": {
       "model_id": "12c601b46bdf467b8ba82764cf55ea41",
       "version_major": 2,
       "version_minor": 0
      },
      "text/plain": [
       "Output()"
      ]
     },
     "metadata": {},
     "output_type": "display_data"
    },
    {
     "data": {
      "application/vnd.jupyter.widget-view+json": {
       "model_id": "8ceaeacb90fd4be38edcf72b3832c474",
       "version_major": 2,
       "version_minor": 0
      },
      "text/plain": [
       "Output()"
      ]
     },
     "metadata": {},
     "output_type": "display_data"
    },
    {
     "data": {
      "application/vnd.jupyter.widget-view+json": {
       "model_id": "f3b0dacc9e4649b885fea82cc707bf71",
       "version_major": 2,
       "version_minor": 0
      },
      "text/plain": [
       "Output()"
      ]
     },
     "metadata": {},
     "output_type": "display_data"
    },
    {
     "data": {
      "application/vnd.jupyter.widget-view+json": {
       "model_id": "8ea8b5d1fcbd479798b6a99de5320606",
       "version_major": 2,
       "version_minor": 0
      },
      "text/plain": [
       "Output()"
      ]
     },
     "metadata": {},
     "output_type": "display_data"
    },
    {
     "data": {
      "application/vnd.jupyter.widget-view+json": {
       "model_id": "c548b352ce504fc3b5418eb96d72413f",
       "version_major": 2,
       "version_minor": 0
      },
      "text/plain": [
       "Output()"
      ]
     },
     "metadata": {},
     "output_type": "display_data"
    },
    {
     "data": {
      "application/vnd.jupyter.widget-view+json": {
       "model_id": "2cb13e27749c4c76aadf4f8ca379444c",
       "version_major": 2,
       "version_minor": 0
      },
      "text/plain": [
       "Output()"
      ]
     },
     "metadata": {},
     "output_type": "display_data"
    },
    {
     "data": {
      "application/vnd.jupyter.widget-view+json": {
       "model_id": "e4d0ed6d922e4ca983635a254af03233",
       "version_major": 2,
       "version_minor": 0
      },
      "text/plain": [
       "Output()"
      ]
     },
     "metadata": {},
     "output_type": "display_data"
    },
    {
     "name": "stdout",
     "output_type": "stream",
     "text": [
      "ACC: 93.13% | CLU: 3.04\n"
     ]
    }
   ],
   "source": [
    "print(\"PyIRT Fisher Information Content\")\n",
    "\n",
    "benchmark_method(repetitions=3, kwargs_dict={\"method\": \"pyirt_fic\", \"metric\": \"MetricX-23\", 'deterministic': True, 'epochs': 1000, 'model_type': '4pl', 'dropout': 0.5, 'priors': 'hiearchical'})\n",
    "\n",
    "# ACC: 93.13% | CLU: 3.04"
   ]
  },
  {
   "cell_type": "code",
   "execution_count": 6,
   "metadata": {},
   "outputs": [
    {
     "name": "stdout",
     "output_type": "stream",
     "text": [
      "PyIRT Fisher Information Content with Scoring Model\n"
     ]
    },
    {
     "data": {
      "application/vnd.jupyter.widget-view+json": {
       "model_id": "64f5a15dd2764ae685fe7701a2ef04c6",
       "version_major": 2,
       "version_minor": 0
      },
      "text/plain": [
       "Output()"
      ]
     },
     "metadata": {},
     "output_type": "display_data"
    },
    {
     "data": {
      "application/vnd.jupyter.widget-view+json": {
       "model_id": "2837e46de9f0449d8ffa6e27ae6a18ce",
       "version_major": 2,
       "version_minor": 0
      },
      "text/plain": [
       "Output()"
      ]
     },
     "metadata": {},
     "output_type": "display_data"
    },
    {
     "data": {
      "application/vnd.jupyter.widget-view+json": {
       "model_id": "91e406be0626426295882f85c28da3b6",
       "version_major": 2,
       "version_minor": 0
      },
      "text/plain": [
       "Output()"
      ]
     },
     "metadata": {},
     "output_type": "display_data"
    },
    {
     "data": {
      "application/vnd.jupyter.widget-view+json": {
       "model_id": "e56acb3be4954bcd8352e3af4743cb91",
       "version_major": 2,
       "version_minor": 0
      },
      "text/plain": [
       "Output()"
      ]
     },
     "metadata": {},
     "output_type": "display_data"
    },
    {
     "data": {
      "application/vnd.jupyter.widget-view+json": {
       "model_id": "32710be4f23a45ef9f36b7c18791644e",
       "version_major": 2,
       "version_minor": 0
      },
      "text/plain": [
       "Output()"
      ]
     },
     "metadata": {},
     "output_type": "display_data"
    },
    {
     "data": {
      "application/vnd.jupyter.widget-view+json": {
       "model_id": "b751a7c2b5c5409a81eabef0da242e28",
       "version_major": 2,
       "version_minor": 0
      },
      "text/plain": [
       "Output()"
      ]
     },
     "metadata": {},
     "output_type": "display_data"
    },
    {
     "data": {
      "application/vnd.jupyter.widget-view+json": {
       "model_id": "6227a96826904e37bcaca43965cbe5e4",
       "version_major": 2,
       "version_minor": 0
      },
      "text/plain": [
       "Output()"
      ]
     },
     "metadata": {},
     "output_type": "display_data"
    },
    {
     "data": {
      "application/vnd.jupyter.widget-view+json": {
       "model_id": "5dc6d6c84d124284aa790e33a886da49",
       "version_major": 2,
       "version_minor": 0
      },
      "text/plain": [
       "Output()"
      ]
     },
     "metadata": {},
     "output_type": "display_data"
    },
    {
     "data": {
      "application/vnd.jupyter.widget-view+json": {
       "model_id": "3215bc0a86ca4e06af7453f9743a006c",
       "version_major": 2,
       "version_minor": 0
      },
      "text/plain": [
       "Output()"
      ]
     },
     "metadata": {},
     "output_type": "display_data"
    },
    {
     "data": {
      "application/vnd.jupyter.widget-view+json": {
       "model_id": "cd55d65f1d784844afb978993d4b3e4d",
       "version_major": 2,
       "version_minor": 0
      },
      "text/plain": [
       "Output()"
      ]
     },
     "metadata": {},
     "output_type": "display_data"
    },
    {
     "name": "stdout",
     "output_type": "stream",
     "text": [
      "Expected parameter concentration (Tensor of shape ()) of distribution Gamma(concentration: nan, rate: nan) to satisfy the constraint GreaterThan(lower_bound=0.0), but found invalid values:\n",
      "nan\n",
      " Trace Shapes:    \n",
      "  Param Sites:    \n",
      "      loc_mu_b    \n",
      "    scale_mu_b    \n",
      "  loc_mu_gamma    \n",
      "scale_mu_gamma    \n",
      "  loc_mu_theta    \n",
      "scale_mu_theta    \n",
      "       alpha_b    \n",
      "        beta_b    \n",
      "   alpha_gamma    \n",
      "    beta_gamma    \n",
      "     alpha_obs    \n",
      "      beta_obs    \n",
      "   alpha_theta    \n",
      "    beta_theta    \n",
      "   loc_ability  12\n",
      " scale_ability  12\n",
      "      loc_diff 549\n",
      "    scale_diff 549\n",
      "      loc_disc 549\n",
      "    scale_disc 549\n",
      " Sample Sites:    \n",
      "     mu_b dist   |\n",
      "         value   |\n",
      "      u_b dist   |\n",
      "         value   |\n",
      " mu_gamma dist   |\n",
      "         value   |\n",
      "  u_gamma dist   |\n",
      "         value   |\n",
      "    u_obs dist   |\n",
      "         value   |\n",
      " mu_theta dist   |\n",
      "         value   |\n"
     ]
    },
    {
     "data": {
      "application/vnd.jupyter.widget-view+json": {
       "model_id": "07d6b161c3ab43c384b815eea94c8f72",
       "version_major": 2,
       "version_minor": 0
      },
      "text/plain": [
       "Output()"
      ]
     },
     "metadata": {},
     "output_type": "display_data"
    },
    {
     "data": {
      "application/vnd.jupyter.widget-view+json": {
       "model_id": "787bf48824564e65bc6f0e0afd5c3681",
       "version_major": 2,
       "version_minor": 0
      },
      "text/plain": [
       "Output()"
      ]
     },
     "metadata": {},
     "output_type": "display_data"
    },
    {
     "name": "stdout",
     "output_type": "stream",
     "text": [
      "Expected parameter concentration (Tensor of shape ()) of distribution Gamma(concentration: nan, rate: nan) to satisfy the constraint GreaterThan(lower_bound=0.0), but found invalid values:\n",
      "nan\n",
      " Trace Shapes:    \n",
      "  Param Sites:    \n",
      "      loc_mu_b    \n",
      "    scale_mu_b    \n",
      "  loc_mu_gamma    \n",
      "scale_mu_gamma    \n",
      "  loc_mu_theta    \n",
      "scale_mu_theta    \n",
      "       alpha_b    \n",
      "        beta_b    \n",
      "   alpha_gamma    \n",
      "    beta_gamma    \n",
      "     alpha_obs    \n",
      "      beta_obs    \n",
      "   alpha_theta    \n",
      "    beta_theta    \n",
      "   loc_ability  12\n",
      " scale_ability  12\n",
      "      loc_diff 549\n",
      "    scale_diff 549\n",
      "      loc_disc 549\n",
      "    scale_disc 549\n",
      " Sample Sites:    \n",
      "     mu_b dist   |\n",
      "         value   |\n",
      "      u_b dist   |\n",
      "         value   |\n",
      " mu_gamma dist   |\n",
      "         value   |\n",
      "  u_gamma dist   |\n",
      "         value   |\n",
      "    u_obs dist   |\n",
      "         value   |\n",
      " mu_theta dist   |\n",
      "         value   |\n"
     ]
    },
    {
     "data": {
      "application/vnd.jupyter.widget-view+json": {
       "model_id": "45553ab47fc3426087011f7c028f3e55",
       "version_major": 2,
       "version_minor": 0
      },
      "text/plain": [
       "Output()"
      ]
     },
     "metadata": {},
     "output_type": "display_data"
    },
    {
     "data": {
      "application/vnd.jupyter.widget-view+json": {
       "model_id": "4a533c5437d8435e811911e0445782c5",
       "version_major": 2,
       "version_minor": 0
      },
      "text/plain": [
       "Output()"
      ]
     },
     "metadata": {},
     "output_type": "display_data"
    },
    {
     "data": {
      "application/vnd.jupyter.widget-view+json": {
       "model_id": "6a1f7ec638a74772a1f07bb78250b547",
       "version_major": 2,
       "version_minor": 0
      },
      "text/plain": [
       "Output()"
      ]
     },
     "metadata": {},
     "output_type": "display_data"
    },
    {
     "data": {
      "application/vnd.jupyter.widget-view+json": {
       "model_id": "a95009d7738e4ad0bb7b557000ef3414",
       "version_major": 2,
       "version_minor": 0
      },
      "text/plain": [
       "Output()"
      ]
     },
     "metadata": {},
     "output_type": "display_data"
    },
    {
     "data": {
      "application/vnd.jupyter.widget-view+json": {
       "model_id": "f731409287d5449a87920e8f47ccb9c1",
       "version_major": 2,
       "version_minor": 0
      },
      "text/plain": [
       "Output()"
      ]
     },
     "metadata": {},
     "output_type": "display_data"
    },
    {
     "data": {
      "application/vnd.jupyter.widget-view+json": {
       "model_id": "435c221b12d44802846699066bbbe818",
       "version_major": 2,
       "version_minor": 0
      },
      "text/plain": [
       "Output()"
      ]
     },
     "metadata": {},
     "output_type": "display_data"
    },
    {
     "name": "stdout",
     "output_type": "stream",
     "text": [
      "Expected parameter concentration (Tensor of shape ()) of distribution Gamma(concentration: nan, rate: nan) to satisfy the constraint GreaterThan(lower_bound=0.0), but found invalid values:\n",
      "nan\n",
      " Trace Shapes:     \n",
      "  Param Sites:     \n",
      "      loc_mu_b     \n",
      "    scale_mu_b     \n",
      "  loc_mu_gamma     \n",
      "scale_mu_gamma     \n",
      "  loc_mu_theta     \n",
      "scale_mu_theta     \n",
      "       alpha_b     \n",
      "        beta_b     \n",
      "   alpha_gamma     \n",
      "    beta_gamma     \n",
      "     alpha_obs     \n",
      "      beta_obs     \n",
      "   alpha_theta     \n",
      "    beta_theta     \n",
      "   loc_ability   15\n",
      " scale_ability   15\n",
      "      loc_diff 1098\n",
      "    scale_diff 1098\n",
      "      loc_disc 1098\n",
      "    scale_disc 1098\n",
      " Sample Sites:     \n",
      "     mu_b dist    |\n",
      "         value    |\n",
      "      u_b dist    |\n",
      "         value    |\n",
      " mu_gamma dist    |\n",
      "         value    |\n"
     ]
    },
    {
     "data": {
      "application/vnd.jupyter.widget-view+json": {
       "model_id": "432e1d74d1424119a032c4e9b7317876",
       "version_major": 2,
       "version_minor": 0
      },
      "text/plain": [
       "Output()"
      ]
     },
     "metadata": {},
     "output_type": "display_data"
    },
    {
     "data": {
      "application/vnd.jupyter.widget-view+json": {
       "model_id": "0a8e97a3f2894f35b14210fd80ab43dc",
       "version_major": 2,
       "version_minor": 0
      },
      "text/plain": [
       "Output()"
      ]
     },
     "metadata": {},
     "output_type": "display_data"
    },
    {
     "data": {
      "application/vnd.jupyter.widget-view+json": {
       "model_id": "8a16820114fd4bbba48688b4c62bddd6",
       "version_major": 2,
       "version_minor": 0
      },
      "text/plain": [
       "Output()"
      ]
     },
     "metadata": {},
     "output_type": "display_data"
    },
    {
     "data": {
      "application/vnd.jupyter.widget-view+json": {
       "model_id": "b5e2d4428f36465880083165ceee7392",
       "version_major": 2,
       "version_minor": 0
      },
      "text/plain": [
       "Output()"
      ]
     },
     "metadata": {},
     "output_type": "display_data"
    },
    {
     "data": {
      "application/vnd.jupyter.widget-view+json": {
       "model_id": "ef3ede9ab9354f439ec6babc5eea2478",
       "version_major": 2,
       "version_minor": 0
      },
      "text/plain": [
       "Output()"
      ]
     },
     "metadata": {},
     "output_type": "display_data"
    },
    {
     "data": {
      "application/vnd.jupyter.widget-view+json": {
       "model_id": "6a2371edb12343f69283a69b5347a691",
       "version_major": 2,
       "version_minor": 0
      },
      "text/plain": [
       "Output()"
      ]
     },
     "metadata": {},
     "output_type": "display_data"
    },
    {
     "data": {
      "application/vnd.jupyter.widget-view+json": {
       "model_id": "f61f6b7ceb4742b78f665573c1f1b83a",
       "version_major": 2,
       "version_minor": 0
      },
      "text/plain": [
       "Output()"
      ]
     },
     "metadata": {},
     "output_type": "display_data"
    },
    {
     "data": {
      "application/vnd.jupyter.widget-view+json": {
       "model_id": "46492e0f02e94aa189302294e81b28a0",
       "version_major": 2,
       "version_minor": 0
      },
      "text/plain": [
       "Output()"
      ]
     },
     "metadata": {},
     "output_type": "display_data"
    },
    {
     "data": {
      "application/vnd.jupyter.widget-view+json": {
       "model_id": "208ac6dd640747939e6daf8f052a3545",
       "version_major": 2,
       "version_minor": 0
      },
      "text/plain": [
       "Output()"
      ]
     },
     "metadata": {},
     "output_type": "display_data"
    },
    {
     "data": {
      "application/vnd.jupyter.widget-view+json": {
       "model_id": "2933ad43524b450090b93dd9e6233eed",
       "version_major": 2,
       "version_minor": 0
      },
      "text/plain": [
       "Output()"
      ]
     },
     "metadata": {},
     "output_type": "display_data"
    },
    {
     "data": {
      "application/vnd.jupyter.widget-view+json": {
       "model_id": "f0544d20005f467daa2581a0e77536cb",
       "version_major": 2,
       "version_minor": 0
      },
      "text/plain": [
       "Output()"
      ]
     },
     "metadata": {},
     "output_type": "display_data"
    },
    {
     "data": {
      "application/vnd.jupyter.widget-view+json": {
       "model_id": "d0d644b18e0e408f8fadb064e97d9f02",
       "version_major": 2,
       "version_minor": 0
      },
      "text/plain": [
       "Output()"
      ]
     },
     "metadata": {},
     "output_type": "display_data"
    },
    {
     "name": "stdout",
     "output_type": "stream",
     "text": [
      "ACC: 91.92% | CLU: 3.35\n"
     ]
    }
   ],
   "source": [
    "print(\"PyIRT Fisher Information Content with Scoring Model\")\n",
    "\n",
    "benchmark_method(repetitions=3, kwargs_dict={\"method\": \"pyirt_fic\", \"metric\": \"MetricX-23\", 'deterministic': True, 'epochs': 1000, 'model_type': '4pl_score', 'dropout': 0.5, 'priors': 'hiearchical'})\n",
    "\n",
    "# ACC: 92.24% | CLU: 3.34\n",
    "# ACC: 91.92% | CLU: 3.35"
   ]
  }
 ],
 "metadata": {
  "kernelspec": {
   "display_name": "base",
   "language": "python",
   "name": "python3"
  },
  "language_info": {
   "codemirror_mode": {
    "name": "ipython",
    "version": 3
   },
   "file_extension": ".py",
   "mimetype": "text/x-python",
   "name": "python",
   "nbconvert_exporter": "python",
   "pygments_lexer": "ipython3",
   "version": "3.11.5"
  }
 },
 "nbformat": 4,
 "nbformat_minor": 2
}
