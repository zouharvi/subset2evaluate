{
 "cells": [
  {
   "cell_type": "code",
   "execution_count": null,
   "metadata": {},
   "outputs": [],
   "source": [
    "import json\n",
    "\n",
    "data_wmt = json.load(open(\"../../../computed/wmt_irt_score.json\"))\n",
    "data_squad_s15_n10k = json.load(open(\"../../../computed/squad_s15_n10k_irt_score.json\"))\n",
    "data_squad_s15 = json.load(open(\"../../../computed/squad_s15_irt_score.json\"))\n",
    "data_squad_s150 = json.load(open(\"../../../computed/squad_s150_irt_score.json\"))"
   ]
  },
  {
   "cell_type": "code",
   "execution_count": null,
   "metadata": {},
   "outputs": [],
   "source": [
    "import numpy as np\n",
    "\n",
    "def eval_irt(data):\n",
    "\tprint(len(data[\"items\"]), len(data[\"systems\"]))\n",
    "\tprint(np.average([item[\"a\"] > 0 for item in data[\"items\"]]))\n",
    "\n",
    "eval_irt(data_wmt)\n",
    "eval_irt(data_squad_s15)\n",
    "eval_irt(data_squad_s15_n10k)\n",
    "eval_irt(data_squad_s150)"
   ]
  },
  {
   "cell_type": "code",
   "execution_count": null,
   "metadata": {},
   "outputs": [],
   "source": [
    "def plot_irt(data):\n",
    "\timport matplotlib.pyplot as plt\n",
    "\tprint(np.average([x > 0 for x in data[\"a\"]]))\n",
    "\tprint(np.average([x > 0 for x in data[\"b\"]]))\n",
    "\tplt.scatter(\n",
    "\t\tdata[\"b\"],\n",
    "\t\tdata[\"a\"],\n",
    "\t\tcolor=\"black\",\n",
    "\t\ts=10,\n",
    "\t\talpha=0.5,\n",
    "\t\tlinewidths=0,\n",
    "\t\t# color=alt.Color(\n",
    "\t\t# \t\"lambda\",\n",
    "\t\t# \ttitle=\"Feasibility (λ)\",\n",
    "\t\t# \tscale=alt.Scale(scheme=\"redyellowblue\"),\n",
    "\t\t# \tlegend=alt.Legend(\n",
    "\t\t# \t\tdirection=\"horizontal\",\n",
    "\t\t# \t\torient=\"none\",\n",
    "\t\t# \t\tlegendX=240,\n",
    "\t\t# \t\tlegendY=0,\n",
    "\t\t# \t\tgradientLength=80,\n",
    "\t\t# \t),\n",
    "\t\t# ),\n",
    "\t)\n",
    "\tplt.ylabel(r\"Discriminability ($\\alpha$)\")\n",
    "\tplt.xlabel(r\"Difficulty ($\\beta$)\")\n",
    "\tplt.show()\n",
    "\n",
    "plot_irt(json.load(open(\"../../../computed/squad_pyirt.json\")))\n",
    "plot_irt(json.load(open(\"../../../computed/wmt_pyirt.json\")))"
   ]
  }
 ],
 "metadata": {
  "kernelspec": {
   "display_name": "base",
   "language": "python",
   "name": "python3"
  },
  "language_info": {
   "codemirror_mode": {
    "name": "ipython",
    "version": 3
   },
   "file_extension": ".py",
   "mimetype": "text/x-python",
   "name": "python",
   "nbconvert_exporter": "python",
   "pygments_lexer": "ipython3",
   "version": "3.11.8"
  }
 },
 "nbformat": 4,
 "nbformat_minor": 2
}
