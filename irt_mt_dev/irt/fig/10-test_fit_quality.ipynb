{
 "cells": [
  {
   "cell_type": "code",
   "execution_count": 11,
   "metadata": {},
   "outputs": [],
   "source": [
    "import json\n",
    "\n",
    "data_wmt = json.load(open(\"../../../computed/wmt_irt_score.json\"))\n",
    "data_squad_s15_n10k = json.load(open(\"../../../computed/squad_s15_n10k_irt_score.json\"))\n",
    "data_squad_s15 = json.load(open(\"../../../computed/squad_s15_irt_score.json\"))\n",
    "data_squad_s150 = json.load(open(\"../../../computed/squad_s150_irt_score.json\"))"
   ]
  },
  {
   "cell_type": "code",
   "execution_count": 12,
   "metadata": {},
   "outputs": [
    {
     "name": "stdout",
     "output_type": "stream",
     "text": [
      "1098 15\n",
      "0.49635701275045535\n",
      "1000 15\n",
      "0.439\n",
      "10000 15\n",
      "0.612\n",
      "1000 150\n",
      "0.487\n"
     ]
    }
   ],
   "source": [
    "import numpy as np\n",
    "\n",
    "def eval_irt(data):\n",
    "\tprint(len(data[\"items\"]), len(data[\"systems\"]))\n",
    "\tprint(np.average([item[\"a\"] > 0 for item in data[\"items\"]]))\n",
    "\n",
    "eval_irt(data_wmt)\n",
    "eval_irt(data_squad_s15)\n",
    "eval_irt(data_squad_s15_n10k)\n",
    "eval_irt(data_squad_s150)"
   ]
  }
 ],
 "metadata": {
  "kernelspec": {
   "display_name": "base",
   "language": "python",
   "name": "python3"
  },
  "language_info": {
   "codemirror_mode": {
    "name": "ipython",
    "version": 3
   },
   "file_extension": ".py",
   "mimetype": "text/x-python",
   "name": "python",
   "nbconvert_exporter": "python",
   "pygments_lexer": "ipython3",
   "version": "3.11.8"
  }
 },
 "nbformat": 4,
 "nbformat_minor": 2
}
