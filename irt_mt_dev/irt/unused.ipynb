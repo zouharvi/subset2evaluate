{
 "cells": [
  {
   "cell_type": "code",
   "execution_count": null,
   "metadata": {},
   "outputs": [],
   "source": [
    "import scipy\n",
    "\n",
    "\n",
    "all_theta = []\n",
    "all_acc = []\n",
    "for system, theta in sorted(list(zip(systems, trainer.last_params['ability'])), key=lambda v: v[1]):\n",
    "    acc = np.average([\n",
    "        line[\"score\"][system] for line in data\n",
    "    ])\n",
    "    print(\n",
    "        f\"{system:>20}\",\n",
    "        f\"Real acc: {acc:6.3f}\",\n",
    "        f\"Inferred theta: {theta:6.3f}\",\n",
    "        sep=\" | \",\n",
    "    )\n",
    "    all_theta.append(theta)\n",
    "    all_acc.append(acc)\n",
    "\n",
    "(scipy.stats.pearsonr(all_theta, all_acc)[0], scipy.stats.spearmanr(all_theta, all_acc)[0])"
   ]
  },
  {
   "cell_type": "code",
   "execution_count": null,
   "metadata": {},
   "outputs": [],
   "source": [
    "def model_2pl(ability, diff, disc):\n",
    "    return 1/(1+np.exp(-disc*(ability-diff)))\n",
    "\n",
    "\n",
    "for system in systems:\n",
    "    system_idx = trainer._dataset.subject_id_to_ix[system]\n",
    "    item_idx = trainer._dataset.item_id_to_ix[\"item_10\"]\n",
    "    # trainer.irt_model.predict([system_idx], range(len(data)))\n",
    "    y_true = trainer.irt_model.predict([system_idx], [item_idx])\n",
    "    y_pred = model_2pl(\n",
    "        ability=trainer.last_params[\"ability\"][system_idx],\n",
    "        diff=trainer.last_params[\"diff\"][item_idx],\n",
    "        disc=trainer.last_params[\"disc\"][item_idx],\n",
    "    )\n",
    "    print(np.abs(y_true - y_pred))"
   ]
  },
  {
   "cell_type": "code",
   "execution_count": null,
   "metadata": {},
   "outputs": [],
   "source": [
    "import matplotlib.pyplot as plt\n",
    "import irt_mt_dev.utils.fig as figutils\n",
    "figutils.matplotlib_default()\n",
    "\n",
    "plt.figure(figsize=(4, 2))\n",
    "\n",
    "min_ability = min(trainer.last_params[\"ability\"])\n",
    "max_ability = max(trainer.last_params[\"ability\"])\n",
    "\n",
    "print(min_ability, max_ability)\n",
    "\n",
    "out_x = []\n",
    "out_y = []\n",
    "for ability in np.linspace(min_ability-0.1, max_ability+0.1, 100):\n",
    "    preds = [\n",
    "        model_2pl(ability=ability, diff=diff, disc=disc)\n",
    "        for diff, disc in zip(trainer.last_params[\"diff\"], trainer.last_params[\"disc\"])\n",
    "    ]\n",
    "    out_x.append(ability)\n",
    "    out_y.append(np.average(preds))\n",
    "\n",
    "plt.plot(out_x, out_y)\n",
    "\n",
    "out_x = []\n",
    "out_y = []\n",
    "for system in systems:\n",
    "    system_idx = trainer._dataset.subject_id_to_ix[system]\n",
    "    ability = trainer.last_params[\"ability\"][system_idx]\n",
    "    preds = [\n",
    "        model_2pl(ability=ability, diff=diff, disc=disc)\n",
    "        for diff, disc in zip(trainer.last_params[\"diff\"], trainer.last_params[\"disc\"])\n",
    "    ]\n",
    "    out_x.append(trainer.last_params[\"ability\"][system_idx])\n",
    "    out_y.append(np.average([line[\"metrics\"][system][\"MetricX-23-c\"] >= 0.7 for line in data]))\n",
    "\n",
    "plt.scatter(out_x, out_y, color=\"black\")\n",
    "plt.xlabel(r\"System $\\theta$\")\n",
    "plt.ylabel(\"Predicted success\")\n",
    "plt.show()"
   ]
  }
 ],
 "metadata": {
  "language_info": {
   "name": "python"
  }
 },
 "nbformat": 4,
 "nbformat_minor": 2
}
